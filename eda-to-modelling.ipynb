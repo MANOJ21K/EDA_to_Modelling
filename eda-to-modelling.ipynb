{
 "cells": [
  {
   "cell_type": "code",
   "execution_count": 1,
   "id": "2c1844a5",
   "metadata": {
    "_cell_guid": "b1076dfc-b9ad-4769-8c92-a6c4dae69d19",
    "_uuid": "8f2839f25d086af736a60e9eeb907d3b93b6e0e5",
    "execution": {
     "iopub.execute_input": "2023-04-24T13:57:17.762056Z",
     "iopub.status.busy": "2023-04-24T13:57:17.761001Z",
     "iopub.status.idle": "2023-04-24T13:57:17.778537Z",
     "shell.execute_reply": "2023-04-24T13:57:17.777207Z"
    },
    "papermill": {
     "duration": 0.026364,
     "end_time": "2023-04-24T13:57:17.781258",
     "exception": false,
     "start_time": "2023-04-24T13:57:17.754894",
     "status": "completed"
    },
    "tags": []
   },
   "outputs": [
    {
     "name": "stdout",
     "output_type": "stream",
     "text": [
      "/kaggle/input/titanic/train.csv\n",
      "/kaggle/input/titanic/test.csv\n",
      "/kaggle/input/titanic/gender_submission.csv\n"
     ]
    }
   ],
   "source": [
    "# This Python 3 environment comes with many helpful analytics libraries installed\n",
    "# It is defined by the kaggle/python Docker image: https://github.com/kaggle/docker-python\n",
    "# For example, here's several helpful packages to load\n",
    "\n",
    "import numpy as np # linear algebra\n",
    "import pandas as pd # data processing, CSV file I/O (e.g. pd.read_csv)\n",
    "\n",
    "# Input data files are available in the read-only \"../input/\" directory\n",
    "# For example, running this (by clicking run or pressing Shift+Enter) will list all files under the input directory\n",
    "\n",
    "import os\n",
    "for dirname, _, filenames in os.walk('/kaggle/input'):\n",
    "    for filename in filenames:\n",
    "        print(os.path.join(dirname, filename))\n",
    "\n",
    "# You can write up to 20GB to the current directory (/kaggle/working/) that gets preserved as output when you create a version using \"Save & Run All\" \n",
    "# You can also write temporary files to /kaggle/temp/, but they won't be saved outside of the current session"
   ]
  },
  {
   "cell_type": "code",
   "execution_count": 2,
   "id": "8cdb9039",
   "metadata": {
    "execution": {
     "iopub.execute_input": "2023-04-24T13:57:17.789489Z",
     "iopub.status.busy": "2023-04-24T13:57:17.788392Z",
     "iopub.status.idle": "2023-04-24T13:57:17.833127Z",
     "shell.execute_reply": "2023-04-24T13:57:17.832061Z"
    },
    "papermill": {
     "duration": 0.051449,
     "end_time": "2023-04-24T13:57:17.835878",
     "exception": false,
     "start_time": "2023-04-24T13:57:17.784429",
     "status": "completed"
    },
    "tags": []
   },
   "outputs": [
    {
     "data": {
      "text/html": [
       "<div>\n",
       "<style scoped>\n",
       "    .dataframe tbody tr th:only-of-type {\n",
       "        vertical-align: middle;\n",
       "    }\n",
       "\n",
       "    .dataframe tbody tr th {\n",
       "        vertical-align: top;\n",
       "    }\n",
       "\n",
       "    .dataframe thead th {\n",
       "        text-align: right;\n",
       "    }\n",
       "</style>\n",
       "<table border=\"1\" class=\"dataframe\">\n",
       "  <thead>\n",
       "    <tr style=\"text-align: right;\">\n",
       "      <th></th>\n",
       "      <th>PassengerId</th>\n",
       "      <th>Survived</th>\n",
       "      <th>Pclass</th>\n",
       "      <th>Name</th>\n",
       "      <th>Sex</th>\n",
       "      <th>Age</th>\n",
       "      <th>SibSp</th>\n",
       "      <th>Parch</th>\n",
       "      <th>Ticket</th>\n",
       "      <th>Fare</th>\n",
       "      <th>Cabin</th>\n",
       "      <th>Embarked</th>\n",
       "    </tr>\n",
       "  </thead>\n",
       "  <tbody>\n",
       "    <tr>\n",
       "      <th>0</th>\n",
       "      <td>1</td>\n",
       "      <td>0</td>\n",
       "      <td>3</td>\n",
       "      <td>Braund, Mr. Owen Harris</td>\n",
       "      <td>male</td>\n",
       "      <td>22.0</td>\n",
       "      <td>1</td>\n",
       "      <td>0</td>\n",
       "      <td>A/5 21171</td>\n",
       "      <td>7.2500</td>\n",
       "      <td>NaN</td>\n",
       "      <td>S</td>\n",
       "    </tr>\n",
       "    <tr>\n",
       "      <th>1</th>\n",
       "      <td>2</td>\n",
       "      <td>1</td>\n",
       "      <td>1</td>\n",
       "      <td>Cumings, Mrs. John Bradley (Florence Briggs Th...</td>\n",
       "      <td>female</td>\n",
       "      <td>38.0</td>\n",
       "      <td>1</td>\n",
       "      <td>0</td>\n",
       "      <td>PC 17599</td>\n",
       "      <td>71.2833</td>\n",
       "      <td>C85</td>\n",
       "      <td>C</td>\n",
       "    </tr>\n",
       "    <tr>\n",
       "      <th>2</th>\n",
       "      <td>3</td>\n",
       "      <td>1</td>\n",
       "      <td>3</td>\n",
       "      <td>Heikkinen, Miss. Laina</td>\n",
       "      <td>female</td>\n",
       "      <td>26.0</td>\n",
       "      <td>0</td>\n",
       "      <td>0</td>\n",
       "      <td>STON/O2. 3101282</td>\n",
       "      <td>7.9250</td>\n",
       "      <td>NaN</td>\n",
       "      <td>S</td>\n",
       "    </tr>\n",
       "  </tbody>\n",
       "</table>\n",
       "</div>"
      ],
      "text/plain": [
       "   PassengerId  Survived  Pclass  \\\n",
       "0            1         0       3   \n",
       "1            2         1       1   \n",
       "2            3         1       3   \n",
       "\n",
       "                                                Name     Sex   Age  SibSp  \\\n",
       "0                            Braund, Mr. Owen Harris    male  22.0      1   \n",
       "1  Cumings, Mrs. John Bradley (Florence Briggs Th...  female  38.0      1   \n",
       "2                             Heikkinen, Miss. Laina  female  26.0      0   \n",
       "\n",
       "   Parch            Ticket     Fare Cabin Embarked  \n",
       "0      0         A/5 21171   7.2500   NaN        S  \n",
       "1      0          PC 17599  71.2833   C85        C  \n",
       "2      0  STON/O2. 3101282   7.9250   NaN        S  "
      ]
     },
     "execution_count": 2,
     "metadata": {},
     "output_type": "execute_result"
    }
   ],
   "source": [
    "#data anlysis\n",
    "import pandas as pd\n",
    "import numpy as np\n",
    "\n",
    "data = pd.read_csv(\"/kaggle/input/titanic/train.csv\")\n",
    "data.head(3)"
   ]
  },
  {
   "cell_type": "code",
   "execution_count": 3,
   "id": "efe0d66c",
   "metadata": {
    "execution": {
     "iopub.execute_input": "2023-04-24T13:57:17.844218Z",
     "iopub.status.busy": "2023-04-24T13:57:17.843572Z",
     "iopub.status.idle": "2023-04-24T13:57:17.849300Z",
     "shell.execute_reply": "2023-04-24T13:57:17.848543Z"
    },
    "papermill": {
     "duration": 0.012193,
     "end_time": "2023-04-24T13:57:17.851305",
     "exception": false,
     "start_time": "2023-04-24T13:57:17.839112",
     "status": "completed"
    },
    "tags": []
   },
   "outputs": [
    {
     "data": {
      "text/plain": [
       "array(['PassengerId', 'Survived', 'Pclass', 'Name', 'Sex', 'Age', 'SibSp',\n",
       "       'Parch', 'Ticket', 'Fare', 'Cabin', 'Embarked'], dtype=object)"
      ]
     },
     "execution_count": 3,
     "metadata": {},
     "output_type": "execute_result"
    }
   ],
   "source": [
    "#what all features does the data contains\n",
    "\n",
    "data.columns.values"
   ]
  },
  {
   "cell_type": "code",
   "execution_count": 4,
   "id": "f0a02c1c",
   "metadata": {
    "execution": {
     "iopub.execute_input": "2023-04-24T13:57:17.859840Z",
     "iopub.status.busy": "2023-04-24T13:57:17.859237Z",
     "iopub.status.idle": "2023-04-24T13:57:17.875092Z",
     "shell.execute_reply": "2023-04-24T13:57:17.874305Z"
    },
    "papermill": {
     "duration": 0.022485,
     "end_time": "2023-04-24T13:57:17.877100",
     "exception": false,
     "start_time": "2023-04-24T13:57:17.854615",
     "status": "completed"
    },
    "tags": []
   },
   "outputs": [
    {
     "data": {
      "text/plain": [
       "['Name', 'Sex', 'Ticket', 'Cabin', 'Embarked']"
      ]
     },
     "execution_count": 4,
     "metadata": {},
     "output_type": "execute_result"
    }
   ],
   "source": [
    "#categorical features\n",
    "categorical_columns = data.select_dtypes(include='object').columns.tolist()\n",
    "categorical_columns"
   ]
  },
  {
   "cell_type": "code",
   "execution_count": 5,
   "id": "13ec90df",
   "metadata": {
    "execution": {
     "iopub.execute_input": "2023-04-24T13:57:17.885353Z",
     "iopub.status.busy": "2023-04-24T13:57:17.884965Z",
     "iopub.status.idle": "2023-04-24T13:57:17.892122Z",
     "shell.execute_reply": "2023-04-24T13:57:17.891243Z"
    },
    "papermill": {
     "duration": 0.01389,
     "end_time": "2023-04-24T13:57:17.894227",
     "exception": false,
     "start_time": "2023-04-24T13:57:17.880337",
     "status": "completed"
    },
    "tags": []
   },
   "outputs": [],
   "source": [
    "#numerical features\n",
    "numerical_columns = data.select_dtypes(include='number').columns.tolist()\n"
   ]
  },
  {
   "cell_type": "code",
   "execution_count": 6,
   "id": "5ea73099",
   "metadata": {
    "execution": {
     "iopub.execute_input": "2023-04-24T13:57:17.902311Z",
     "iopub.status.busy": "2023-04-24T13:57:17.901913Z",
     "iopub.status.idle": "2023-04-24T13:57:17.926699Z",
     "shell.execute_reply": "2023-04-24T13:57:17.925308Z"
    },
    "papermill": {
     "duration": 0.031657,
     "end_time": "2023-04-24T13:57:17.929265",
     "exception": false,
     "start_time": "2023-04-24T13:57:17.897608",
     "status": "completed"
    },
    "tags": []
   },
   "outputs": [
    {
     "name": "stdout",
     "output_type": "stream",
     "text": [
      "<class 'pandas.core.frame.DataFrame'>\n",
      "RangeIndex: 891 entries, 0 to 890\n",
      "Data columns (total 5 columns):\n",
      " #   Column    Non-Null Count  Dtype \n",
      "---  ------    --------------  ----- \n",
      " 0   Name      891 non-null    object\n",
      " 1   Sex       891 non-null    object\n",
      " 2   Ticket    891 non-null    object\n",
      " 3   Cabin     204 non-null    object\n",
      " 4   Embarked  889 non-null    object\n",
      "dtypes: object(5)\n",
      "memory usage: 34.9+ KB\n"
     ]
    }
   ],
   "source": [
    "#checking for missing values with categorical data\n",
    "categorical_columns = data.select_dtypes(include='object').columns.tolist()\n",
    "data_cat = data[categorical_columns]\n",
    "data_cat.info()"
   ]
  },
  {
   "cell_type": "code",
   "execution_count": 7,
   "id": "53f73b2f",
   "metadata": {
    "execution": {
     "iopub.execute_input": "2023-04-24T13:57:17.937605Z",
     "iopub.status.busy": "2023-04-24T13:57:17.937226Z",
     "iopub.status.idle": "2023-04-24T13:57:17.953591Z",
     "shell.execute_reply": "2023-04-24T13:57:17.952206Z"
    },
    "papermill": {
     "duration": 0.023285,
     "end_time": "2023-04-24T13:57:17.956097",
     "exception": false,
     "start_time": "2023-04-24T13:57:17.932812",
     "status": "completed"
    },
    "tags": []
   },
   "outputs": [
    {
     "name": "stdout",
     "output_type": "stream",
     "text": [
      "<class 'pandas.core.frame.DataFrame'>\n",
      "RangeIndex: 891 entries, 0 to 890\n",
      "Data columns (total 7 columns):\n",
      " #   Column       Non-Null Count  Dtype  \n",
      "---  ------       --------------  -----  \n",
      " 0   PassengerId  891 non-null    int64  \n",
      " 1   Survived     891 non-null    int64  \n",
      " 2   Pclass       891 non-null    int64  \n",
      " 3   Age          714 non-null    float64\n",
      " 4   SibSp        891 non-null    int64  \n",
      " 5   Parch        891 non-null    int64  \n",
      " 6   Fare         891 non-null    float64\n",
      "dtypes: float64(2), int64(5)\n",
      "memory usage: 48.9 KB\n"
     ]
    }
   ],
   "source": [
    "#checking for missing values with numerical data\n",
    "numerical_columns = data.select_dtypes(include='number').columns.tolist()\n",
    "data_num = data[numerical_columns]\n",
    "data_num.info()"
   ]
  },
  {
   "cell_type": "code",
   "execution_count": null,
   "id": "23badd6a",
   "metadata": {
    "papermill": {
     "duration": 0.003161,
     "end_time": "2023-04-24T13:57:17.962992",
     "exception": false,
     "start_time": "2023-04-24T13:57:17.959831",
     "status": "completed"
    },
    "tags": []
   },
   "outputs": [],
   "source": []
  }
 ],
 "metadata": {
  "kernelspec": {
   "display_name": "Python 3",
   "language": "python",
   "name": "python3"
  },
  "language_info": {
   "codemirror_mode": {
    "name": "ipython",
    "version": 3
   },
   "file_extension": ".py",
   "mimetype": "text/x-python",
   "name": "python",
   "nbconvert_exporter": "python",
   "pygments_lexer": "ipython3",
   "version": "3.7.12"
  },
  "papermill": {
   "default_parameters": {},
   "duration": 10.818615,
   "end_time": "2023-04-24T13:57:18.586101",
   "environment_variables": {},
   "exception": null,
   "input_path": "__notebook__.ipynb",
   "output_path": "__notebook__.ipynb",
   "parameters": {},
   "start_time": "2023-04-24T13:57:07.767486",
   "version": "2.4.0"
  }
 },
 "nbformat": 4,
 "nbformat_minor": 5
}
